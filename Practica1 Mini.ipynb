{
 "cells": [
  {
   "cell_type": "markdown",
   "metadata": {},
   "source": [
    "# PREPAREM LES DADES "
   ]
  },
  {
   "cell_type": "markdown",
   "metadata": {},
   "source": [
    "Carreguem les llibreries que necessitem"
   ]
  },
  {
   "cell_type": "code",
   "execution_count": 45,
   "metadata": {},
   "outputs": [],
   "source": [
    "import numpy as np  \n",
    "import matplotlib.pyplot as plt  \n",
    "import pandas as pd  \n",
    "import networkx as nx\n",
    "from sklearn import preprocessing #Machine learning"
   ]
  },
  {
   "cell_type": "markdown",
   "metadata": {},
   "source": [
    "Assignem noms de columnes \n",
    "i Llegim les dades de la url a un dataframe de pandas i el mostrem"
   ]
  },
  {
   "cell_type": "code",
   "execution_count": 46,
   "metadata": {},
   "outputs": [],
   "source": [
    "import requests\n",
    "import io"
   ]
  },
  {
   "cell_type": "code",
   "execution_count": 47,
   "metadata": {},
   "outputs": [
    {
     "data": {
      "text/html": [
       "<div>\n",
       "<style scoped>\n",
       "    .dataframe tbody tr th:only-of-type {\n",
       "        vertical-align: middle;\n",
       "    }\n",
       "\n",
       "    .dataframe tbody tr th {\n",
       "        vertical-align: top;\n",
       "    }\n",
       "\n",
       "    .dataframe thead th {\n",
       "        text-align: right;\n",
       "    }\n",
       "</style>\n",
       "<table border=\"1\" class=\"dataframe\">\n",
       "  <thead>\n",
       "    <tr style=\"text-align: right;\">\n",
       "      <th></th>\n",
       "      <th>sepal-length</th>\n",
       "      <th>sepal-width</th>\n",
       "      <th>petal-length</th>\n",
       "      <th>petal-width</th>\n",
       "      <th>Class</th>\n",
       "    </tr>\n",
       "  </thead>\n",
       "  <tbody>\n",
       "    <tr>\n",
       "      <th>0</th>\n",
       "      <td>5.1</td>\n",
       "      <td>3.5</td>\n",
       "      <td>1.4</td>\n",
       "      <td>0.2</td>\n",
       "      <td>Iris-setosa</td>\n",
       "    </tr>\n",
       "    <tr>\n",
       "      <th>1</th>\n",
       "      <td>4.9</td>\n",
       "      <td>3.0</td>\n",
       "      <td>1.4</td>\n",
       "      <td>0.2</td>\n",
       "      <td>Iris-setosa</td>\n",
       "    </tr>\n",
       "    <tr>\n",
       "      <th>2</th>\n",
       "      <td>4.7</td>\n",
       "      <td>3.2</td>\n",
       "      <td>1.3</td>\n",
       "      <td>0.2</td>\n",
       "      <td>Iris-setosa</td>\n",
       "    </tr>\n",
       "    <tr>\n",
       "      <th>3</th>\n",
       "      <td>4.6</td>\n",
       "      <td>3.1</td>\n",
       "      <td>1.5</td>\n",
       "      <td>0.2</td>\n",
       "      <td>Iris-setosa</td>\n",
       "    </tr>\n",
       "    <tr>\n",
       "      <th>4</th>\n",
       "      <td>5.0</td>\n",
       "      <td>3.6</td>\n",
       "      <td>1.4</td>\n",
       "      <td>0.2</td>\n",
       "      <td>Iris-setosa</td>\n",
       "    </tr>\n",
       "  </tbody>\n",
       "</table>\n",
       "</div>"
      ],
      "text/plain": [
       "   sepal-length  sepal-width  petal-length  petal-width        Class\n",
       "0           5.1          3.5           1.4          0.2  Iris-setosa\n",
       "1           4.9          3.0           1.4          0.2  Iris-setosa\n",
       "2           4.7          3.2           1.3          0.2  Iris-setosa\n",
       "3           4.6          3.1           1.5          0.2  Iris-setosa\n",
       "4           5.0          3.6           1.4          0.2  Iris-setosa"
      ]
     },
     "execution_count": 47,
     "metadata": {},
     "output_type": "execute_result"
    }
   ],
   "source": [
    "names = ['sepal-length', 'sepal-width', 'petal-length', 'petal-width', 'Class']\n",
    "url = \"https://archive.ics.uci.edu/ml/machine-learning-databases/iris/iris.data\"\n",
    "s=requests.get(url).content\n",
    "dataset=pd.read_csv(io.StringIO(s.decode('utf-8')),names=names)\n",
    "dataset.head()"
   ]
  },
  {
   "cell_type": "markdown",
   "metadata": {},
   "source": [
    "Seleccionem només 10 observacions. Fixem una llavor per poder repetir sempre igual"
   ]
  },
  {
   "cell_type": "code",
   "execution_count": 48,
   "metadata": {},
   "outputs": [
    {
     "name": "stdout",
     "output_type": "stream",
     "text": [
      "     sepal-length  sepal-width  petal-length  petal-width            Class\n",
      "10            5.4          3.7           1.5          0.2      Iris-setosa\n",
      "47            4.6          3.2           1.4          0.2      Iris-setosa\n",
      "70            5.9          3.2           4.8          1.8  Iris-versicolor\n",
      "131           7.9          3.8           6.4          2.0   Iris-virginica\n",
      "2             4.7          3.2           1.3          0.2      Iris-setosa\n",
      "140           6.7          3.1           5.6          2.4   Iris-virginica\n",
      "48            5.3          3.7           1.5          0.2      Iris-setosa\n",
      "63            6.1          2.9           4.7          1.4  Iris-versicolor\n",
      "129           7.2          3.0           5.8          1.6   Iris-virginica\n",
      "9             4.9          3.1           1.5          0.1      Iris-setosa\n"
     ]
    }
   ],
   "source": [
    "import random\n",
    "random.seed(11) #Sempre pasarà al mateix.\n",
    "dataset=dataset.sample(n = 10) #Mostra de 10 observacions.\n",
    "print(dataset)"
   ]
  },
  {
   "cell_type": "markdown",
   "metadata": {},
   "source": [
    "Separem les característiques (columnes x) de les classes (columna y) Per x agafem només 2 columnes  "
   ]
  },
  {
   "cell_type": "code",
   "execution_count": 49,
   "metadata": {},
   "outputs": [
    {
     "name": "stdout",
     "output_type": "stream",
     "text": [
      "(10, 2)\n",
      "(10,)\n"
     ]
    }
   ],
   "source": [
    "X = dataset.iloc[:, 0:2].values  #columna 0 i 1.\n",
    "y = dataset.iloc[:, 4].values  \n",
    "print(X.shape)\n",
    "print(y.shape)"
   ]
  },
  {
   "cell_type": "code",
   "execution_count": 34,
   "metadata": {},
   "outputs": [
    {
     "name": "stdout",
     "output_type": "stream",
     "text": [
      "[[5.4 3.9]\n",
      " [5.6 2.8]\n",
      " [4.6 3.1]\n",
      " [6.9 3.1]\n",
      " [6.8 3.2]\n",
      " [6.5 3. ]\n",
      " [5.7 3.8]\n",
      " [5.6 2.9]\n",
      " [6.6 3. ]\n",
      " [5.9 3. ]]\n",
      "['Iris-setosa' 'Iris-virginica' 'Iris-setosa' 'Iris-virginica'\n",
      " 'Iris-virginica' 'Iris-virginica' 'Iris-setosa' 'Iris-versicolor'\n",
      " 'Iris-versicolor' 'Iris-virginica']\n"
     ]
    }
   ],
   "source": [
    "print(X)\n",
    "print(y)"
   ]
  },
  {
   "cell_type": "markdown",
   "metadata": {},
   "source": [
    "Traiem duplicats"
   ]
  },
  {
   "cell_type": "code",
   "execution_count": 50,
   "metadata": {},
   "outputs": [
    {
     "name": "stdout",
     "output_type": "stream",
     "text": [
      "(10, 2)\n",
      "(10,)\n"
     ]
    }
   ],
   "source": [
    "dup=np.unique(X,return_index=True,axis=0)\n",
    "X=X[dup[1],:]\n",
    "y=y[dup[1]]\n",
    "print(X.shape)\n",
    "print(y.shape)"
   ]
  },
  {
   "cell_type": "markdown",
   "metadata": {},
   "source": [
    "Seleccionem a l'atzar les files que suposem classificades i retenim la resta que considerem no classificades"
   ]
  },
  {
   "cell_type": "code",
   "execution_count": 51,
   "metadata": {},
   "outputs": [
    {
     "name": "stdout",
     "output_type": "stream",
     "text": [
      "7\n",
      "3\n"
     ]
    }
   ],
   "source": [
    "#Tatxem alguna clasificacio i calasificar-ho per a veure si ho he fet be\n",
    "from sklearn.model_selection import train_test_split #es això\n",
    "import random\n",
    "random.seed(111)\n",
    "X_train, X_test, y_train, y_test = train_test_split(X, y, test_size = 0.25)#li dono x,y i agafi el 25% pel test i lo altre normal (train).\n",
    "X_train.shape\n",
    "num_objectes_train=X_train.shape[0]\n",
    "num_objectes_test=X_test.shape[0]\n",
    "print(num_objectes_train)\n",
    "print(num_objectes_test)"
   ]
  },
  {
   "cell_type": "markdown",
   "metadata": {},
   "source": [
    "Dibuixem els nostres exemples amb diferents colors segons la classificació"
   ]
  },
  {
   "cell_type": "code",
   "execution_count": 52,
   "metadata": {
    "scrolled": true
   },
   "outputs": [
    {
     "data": {
      "image/png": "[encoded data removed]",
      "text/plain": [
       "<Figure size 432x288 with 1 Axes>"
      ]
     },
     "metadata": {
      "needs_background": "light"
     },
     "output_type": "display_data"
    }
   ],
   "source": [
    "colors = {'Iris-versicolor':'red', 'Iris-virginica':'blue', 'Iris-setosa':'green'}\n",
    "cols = [colors[i] for i in y_train]\n",
    "plt.scatter(X_train[:,0],X_train[:,1] , c=cols, s=100)\n",
    "plt.xlabel(\"Longitud sèpal\")\n",
    "plt.ylabel(\"Ample sèpal\")\n",
    "for i, txt in enumerate(range(num_objectes_train)):\n",
    "    plt.annotate(txt, (X_train[i,0],X_train[i,1]))\n"
   ]
  },
  {
   "cell_type": "markdown",
   "metadata": {},
   "source": [
    "# COMENCEM LA CLASSIFICACIÓ D'UN NOU EXEMPLE (EL PRIMER del conjunt de test)"
   ]
  },
  {
   "cell_type": "markdown",
   "metadata": {},
   "source": [
    "Afegim el punt a classificar"
   ]
  },
  {
   "cell_type": "code",
   "execution_count": 53,
   "metadata": {},
   "outputs": [],
   "source": [
    "X_clas = np.append(X_train, X_test[0:1,:],axis=0)\n",
    "#axis --> files\n",
    "#clas es train pero afegin element que vull clasificar."
   ]
  },
  {
   "cell_type": "markdown",
   "metadata": {},
   "source": [
    "Tornem a fer el gràfic amb aquest punt en color groc"
   ]
  },
  {
   "cell_type": "code",
   "execution_count": 54,
   "metadata": {
    "scrolled": true
   },
   "outputs": [
    {
     "data": {
      "image/png": "[encoded data removed]",
      "text/plain": [
       "<Figure size 432x288 with 1 Axes>"
      ]
     },
     "metadata": {
      "needs_background": "light"
     },
     "output_type": "display_data"
    }
   ],
   "source": [
    "colors = {'Iris-versicolor':'red', 'Iris-virginica':'blue', 'Iris-setosa':'green'}\n",
    "cols = [colors[i] for i in y_train]\n",
    "plt.scatter(X_train[:,0],X_train[:,1] , c=cols, s=50)\n",
    "plt.scatter(X_test[0,0],X_test[0,1], c='yellow',s=200)\n",
    "plt.xlabel(\"Longitud sèpal\")\n",
    "plt.ylabel(\"Ample sèpal\")\n",
    "for i, txt in enumerate(range(num_objectes_train+1)):\n",
    "    plt.annotate(txt, (X_clas[i,0],X_clas[i,1]))\n"
   ]
  },
  {
   "cell_type": "markdown",
   "metadata": {},
   "source": [
    "Estandaritzem les 2 variables del X_clas"
   ]
  },
  {
   "cell_type": "code",
   "execution_count": 55,
   "metadata": {},
   "outputs": [
    {
     "data": {
      "text/plain": [
       "array([[ 0.23779131,  0.11250879],\n",
       "       [ 1.69251462, -0.78756153],\n",
       "       [-1.10503021,  0.11250879],\n",
       "       [-0.88122662, -0.33752637],\n",
       "       [-1.216932  ,  0.11250879]])"
      ]
     },
     "execution_count": 55,
     "metadata": {},
     "output_type": "execute_result"
    }
   ],
   "source": [
    "X_clas=preprocessing.scale(X_clas)\n",
    "X_clas[0:5,]\n",
    "#Si no vols que una variable decideixi mes que les altres,\n",
    "#les escalem, tenen la mateixa escala."
   ]
  },
  {
   "cell_type": "markdown",
   "metadata": {},
   "source": [
    "Fem la matriu de distàncies"
   ]
  },
  {
   "cell_type": "code",
   "execution_count": 57,
   "metadata": {},
   "outputs": [
    {
     "name": "stdout",
     "output_type": "stream",
     "text": [
      "[[0.         1.71065675 1.34282152 1.20612304 1.45472331 1.36852945\n",
      "  2.3186939  1.00196825]\n",
      " [1.71065675 0.         2.93877248 2.61279078 3.04548949 1.31060864\n",
      "  3.73914192 0.71804034]\n",
      " [1.34282152 2.93877248 0.         0.50261286 0.11190179 2.06811485\n",
      "  2.38261824 2.28283512]\n",
      " [1.20612304 2.61279078 0.50261286 0.         0.56145325 1.61656927\n",
      "  2.7575695  2.01423228]\n",
      " [1.45472331 3.04548949 0.11190179 0.56145325 0.         2.15412102\n",
      "  2.42171424 2.39264261]\n",
      " [1.36852945 1.31060864 2.06811485 1.61656927 2.15412102 0.\n",
      "  3.68450863 1.12290649]\n",
      " [2.3186939  3.73914192 2.38261824 2.7575695  2.42171424 3.68450863\n",
      "  0.         3.06714185]\n",
      " [1.00196825 0.71804034 2.28283512 2.01423228 2.39264261 1.12290649\n",
      "  3.06714185 0.        ]]\n"
     ]
    }
   ],
   "source": [
    "#Distancia de tots els elements a tots els elements.\n",
    "#Fila de zeros on la mida es ... +1 pq tenim nou element a clasificar.\n",
    "dist=np.zeros(shape=(num_objectes_train+1,num_objectes_train+1), dtype=float)\n",
    "for i in range(num_objectes_train+1):\n",
    "    for j in range(num_objectes_train+1):\n",
    "            dist[i,j]=np.sqrt(np.sum((X_clas[i,:]-X_clas[j,:])**2))\n",
    "print(dist)"
   ]
  },
  {
   "cell_type": "markdown",
   "metadata": {},
   "source": [
    "Passem la matriu de distàncies a similaritats 1/dist+1 (només per dibuixar el graf)"
   ]
  },
  {
   "cell_type": "code",
   "execution_count": 59,
   "metadata": {},
   "outputs": [],
   "source": [
    "#Quan vols dibuixar graf necesitas similitud.\n",
    "#1/disancia+1 pq com algunes distancies son 0, donaria infinit.\n",
    "sim=1/(dist+1)\n",
    "#la millor manera es 1/distancia per a definir la simulitud"
   ]
  },
  {
   "cell_type": "markdown",
   "metadata": {},
   "source": [
    "Grafiquem el graf (complet) amb la matriu d'adjacècncia com les similaritats"
   ]
  },
  {
   "cell_type": "code",
   "execution_count": 60,
   "metadata": {},
   "outputs": [
    {
     "data": {
      "image/png": "[encoded data removed]",
      "text/plain": [
       "<Figure size 432x288 with 1 Axes>"
      ]
     },
     "metadata": {},
     "output_type": "display_data"
    }
   ],
   "source": [
    "G1=nx.from_numpy_matrix(sim)\n",
    "nx.draw_networkx(G1)"
   ]
  },
  {
   "cell_type": "markdown",
   "metadata": {},
   "source": [
    "Fixem el número de veins"
   ]
  },
  {
   "cell_type": "code",
   "execution_count": 61,
   "metadata": {},
   "outputs": [],
   "source": [
    "K=3"
   ]
  },
  {
   "cell_type": "markdown",
   "metadata": {},
   "source": [
    "Determinem els índex dels k més propers"
   ]
  },
  {
   "cell_type": "code",
   "execution_count": 69,
   "metadata": {},
   "outputs": [
    {
     "data": {
      "text/plain": [
       "array([[7, 3, 2],\n",
       "       [7, 5, 0],\n",
       "       [4, 3, 0],\n",
       "       [2, 4, 0],\n",
       "       [2, 3, 0],\n",
       "       [7, 1, 0],\n",
       "       [0, 2, 4],\n",
       "       [1, 0, 5]], dtype=int64)"
      ]
     },
     "execution_count": 69,
     "metadata": {},
     "output_type": "execute_result"
    }
   ],
   "source": [
    "#arc osrt --> ordenam per columnes (axis=1)\n",
    "#agafem matriu distancies ordena posant primer columna i fesmo per totes les files.\n",
    "#no agafis la primera (ja q distancia 0, mateix objecte.)\n",
    "dist_sort=dist.argsort(axis=1)[:,1:(K+1)]\n",
    "#dist_sort[5:8,]\n",
    "dist_sort"
   ]
  },
  {
   "cell_type": "code",
   "execution_count": 66,
   "metadata": {},
   "outputs": [
    {
     "data": {
      "text/plain": [
       "array([[0, 7, 3, 2, 5, 4, 1, 6],\n",
       "       [1, 7, 5, 0, 3, 2, 4, 6],\n",
       "       [2, 4, 3, 0, 5, 7, 6, 1],\n",
       "       [3, 2, 4, 0, 5, 7, 1, 6],\n",
       "       [4, 2, 3, 0, 5, 7, 6, 1],\n",
       "       [5, 7, 1, 0, 3, 2, 4, 6],\n",
       "       [6, 0, 2, 4, 3, 7, 5, 1],\n",
       "       [7, 1, 0, 5, 3, 2, 4, 6]], dtype=int64)"
      ]
     },
     "execution_count": 66,
     "metadata": {},
     "output_type": "execute_result"
    }
   ],
   "source": [
    "dist.argsort(axis=1)\n",
    "#ordena distancies i dona els index\n",
    "#com escullo i afago nomes els tres primers(sense contar el primer, es ell mateix).\n",
    "#[:,1:(K+1)] pq k=3, 1:4 pq el ultim no tel agafa"
   ]
  },
  {
   "cell_type": "markdown",
   "metadata": {},
   "source": [
    "A l'array anterior veiem que la observació 7 te com a 3 més propers el 0,2,3. Comprovem-ho amb les distàncies"
   ]
  },
  {
   "cell_type": "code",
   "execution_count": 70,
   "metadata": {},
   "outputs": [
    {
     "data": {
      "text/plain": [
       "array([1.00196825, 0.71804034, 2.28283512, 2.01423228, 2.39264261,\n",
       "       1.12290649, 3.06714185, 0.        ])"
      ]
     },
     "execution_count": 70,
     "metadata": {},
     "output_type": "execute_result"
    }
   ],
   "source": [
    "dist[7,]"
   ]
  },
  {
   "cell_type": "code",
   "execution_count": 71,
   "metadata": {},
   "outputs": [
    {
     "name": "stdout",
     "output_type": "stream",
     "text": [
      "[1.00196825 2.28283512 2.01423228]\n"
     ]
    }
   ],
   "source": [
    "print(dist[7,[0,2,3]])"
   ]
  },
  {
   "cell_type": "markdown",
   "metadata": {},
   "source": [
    "Creem la matriu d'adjacències amb mutual (pot ser que no tots 4 seran al 0 pel mutual)"
   ]
  },
  {
   "cell_type": "code",
   "execution_count": 72,
   "metadata": {},
   "outputs": [],
   "source": [
    "adj=np.zeros(shape=(num_objectes_train+1,num_objectes_train+1), dtype=float)\n",
    "for i in range(num_objectes_train+1):\n",
    "   for j in range(K):\n",
    "       if i in dist_sort[dist_sort[i,j],:]:\n",
    "           adj[i,dist_sort[i,j]]=1"
   ]
  },
  {
   "cell_type": "code",
   "execution_count": 74,
   "metadata": {},
   "outputs": [
    {
     "name": "stdout",
     "output_type": "stream",
     "text": [
      "[1 0 5]\n"
     ]
    }
   ],
   "source": [
    "#Comprovacions\n",
    "print(dist_sort[7,])"
   ]
  },
  {
   "cell_type": "markdown",
   "metadata": {},
   "source": [
    "Veiem que totes (0,2 i3 tenen el 7 com a un dels tres més propers i per tant al mutual graf hi seran tots tres.\n",
    "Veiem que el 7 te com a 3-veins més propers el 0,5,3."
   ]
  },
  {
   "cell_type": "code",
   "execution_count": 75,
   "metadata": {},
   "outputs": [
    {
     "name": "stdout",
     "output_type": "stream",
     "text": [
      "[7 3 2]\n",
      "[4 3 0]\n",
      "[2 4 0]\n"
     ]
    }
   ],
   "source": [
    "print(dist_sort[0,])\n",
    "print(dist_sort[2,])\n",
    "print(dist_sort[3,])"
   ]
  },
  {
   "cell_type": "code",
   "execution_count": 77,
   "metadata": {},
   "outputs": [
    {
     "name": "stdout",
     "output_type": "stream",
     "text": [
      "[[0. 0. 1. 1. 0. 0. 0. 1.]\n",
      " [0. 0. 0. 0. 0. 1. 0. 1.]\n",
      " [1. 0. 0. 1. 1. 0. 0. 0.]\n",
      " [1. 0. 1. 0. 1. 0. 0. 0.]\n",
      " [0. 0. 1. 1. 0. 0. 0. 0.]\n",
      " [0. 1. 0. 0. 0. 0. 0. 1.]\n",
      " [0. 0. 0. 0. 0. 0. 0. 0.]\n",
      " [1. 1. 0. 0. 0. 1. 0. 0.]]\n"
     ]
    }
   ],
   "source": [
    "print(adj)"
   ]
  },
  {
   "cell_type": "markdown",
   "metadata": {},
   "source": [
    "Dibuixem el graf amb les adjacències"
   ]
  },
  {
   "cell_type": "code",
   "execution_count": 76,
   "metadata": {},
   "outputs": [
    {
     "data": {
      "image/png": "[encoded data removed]",
      "text/plain": [
       "<Figure size 432x288 with 1 Axes>"
      ]
     },
     "metadata": {},
     "output_type": "display_data"
    }
   ],
   "source": [
    "#Ara li donem adj no similitud.\n",
    "G2=nx.from_numpy_matrix(adj)\n",
    "nx.draw_networkx(G2)"
   ]
  },
  {
   "cell_type": "markdown",
   "metadata": {},
   "source": [
    "# Assignar la classe al nou exemple"
   ]
  },
  {
   "cell_type": "markdown",
   "metadata": {},
   "source": [
    "Agafem de l'última fila (l'exemple que volem classificar) totes les columnes menys la última i ho convertim en bool (perquè seran indexos per mirar les classes dels exemples coneguts)"
   ]
  },
  {
   "cell_type": "code",
   "execution_count": 78,
   "metadata": {},
   "outputs": [
    {
     "name": "stdout",
     "output_type": "stream",
     "text": [
      "[ True  True False False False  True False]\n"
     ]
    }
   ],
   "source": [
    "index_clas=adj[-1,:-1].astype(bool)\n",
    "print(index_clas)"
   ]
  },
  {
   "cell_type": "markdown",
   "metadata": {},
   "source": [
    "Mirem quines són les classes dels que estan relacionats amb la nova observació i pensem com ho classificarà (segons la classe més freqüent)"
   ]
  },
  {
   "cell_type": "code",
   "execution_count": 79,
   "metadata": {},
   "outputs": [
    {
     "data": {
      "text/plain": [
       "array(['Iris-versicolor', 'Iris-virginica', 'Iris-versicolor'],\n",
       "      dtype=object)"
      ]
     },
     "execution_count": 79,
     "metadata": {},
     "output_type": "execute_result"
    }
   ],
   "source": [
    "y_train[index_clas]"
   ]
  },
  {
   "cell_type": "markdown",
   "metadata": {},
   "source": [
    "Classifiquem l'observació"
   ]
  },
  {
   "cell_type": "code",
   "execution_count": 82,
   "metadata": {},
   "outputs": [
    {
     "name": "stdout",
     "output_type": "stream",
     "text": [
      "Iris-versicolor\n"
     ]
    }
   ],
   "source": [
    "if True in index_clas:\n",
    "    u, c = np.unique(y_train[index_clas], return_counts=True)\n",
    "    y_class=u[c.argmax()]\n",
    "else:\n",
    "    y_class='Unclassified'\n",
    "print(y_class)"
   ]
  },
  {
   "cell_type": "markdown",
   "metadata": {},
   "source": [
    "Mirem si ho ha fet bé"
   ]
  },
  {
   "cell_type": "code",
   "execution_count": 83,
   "metadata": {},
   "outputs": [
    {
     "data": {
      "text/plain": [
       "False"
      ]
     },
     "execution_count": 83,
     "metadata": {},
     "output_type": "execute_result"
    }
   ],
   "source": [
    "y_class==y_test[0]"
   ]
  },
  {
   "cell_type": "code",
   "execution_count": null,
   "metadata": {},
   "outputs": [],
   "source": []
  }
 ],
 "metadata": {
  "kernelspec": {
   "display_name": "Python 3",
   "language": "python",
   "name": "python3"
  },
  "language_info": {
   "codemirror_mode": {
    "name": "ipython",
    "version": 3
   },
   "file_extension": ".py",
   "mimetype": "text/x-python",
   "name": "python",
   "nbconvert_exporter": "python",
   "pygments_lexer": "ipython3",
   "version": "3.7.6"
  }
 },
 "nbformat": 4,
 "nbformat_minor": 4
}
